{
 "cells": [
  {
   "cell_type": "code",
   "execution_count": 2,
   "metadata": {},
   "outputs": [
    {
     "name": "stdout",
     "output_type": "stream",
     "text": [
      "                 FROM                TO    km    Max    Min\n",
      "0             Zagazig             ZAG E   4.0   8.00   3.00\n",
      "1               ZAG E           Zagazig   4.0   8.00   3.00\n",
      "2             Zagazig  10TH-RAMADAN-MTX  63.0  25.20  20.20\n",
      "3    10TH-RAMADAN-MTX           Zagazig  63.0  27.00  23.30\n",
      "4             Zagazig      10 th Ramdan  61.0  24.21  19.21\n",
      "..                ...               ...   ...    ...    ...\n",
      "121            Ramsis            Almaza  17.7  18.51  13.51\n",
      "122            Almaza             Banha  69.0  29.00  24.00\n",
      "123             Banha            Almaza  69.0  31.30  26.30\n",
      "124      10 th Ramdan  10TH-RAMADAN-MTX   1.5   9.00   4.00\n",
      "125  10TH-RAMADAN-MTX      10 th Ramdan   1.5   9.00   4.00\n",
      "\n",
      "[126 rows x 5 columns]\n"
     ]
    },
    {
     "name": "stderr",
     "output_type": "stream",
     "text": [
      "C:\\Users\\omagdysa\\AppData\\Local\\Temp\\ipykernel_10600\\41069111.py:51: FutureWarning: The frame.append method is deprecated and will be removed from pandas in a future version. Use pandas.concat instead.\n",
      "  df = df.append(df.loc[i], ignore_index=True)\n"
     ]
    }
   ],
   "source": [
    "#script for praseing the data from EPT excel file\n",
    "# \"Network information report\"\n",
    "\n",
    "import pandas as pd\n",
    "import numpy as np\n",
    "import os\n",
    "import re\n",
    "import openpyxl\n",
    "import xlrd\n",
    "import xlsxwriter\n",
    "from openpyxl.styles import PatternFill, Border, Side, Alignment, Protection, Font\n",
    "from openpyxl.formatting.rule import ColorScaleRule, CellIsRule, FormulaRule\n",
    "from openpyxl.styles import colors\n",
    "from openpyxl.styles import Font, Color\n",
    "\n",
    "\n",
    "#importing the data from excel file\n",
    "df = pd.read_excel(r\"D:\\Autmation\\My scripts\\span Losses details form EPT\\NetworkInformation_Report_TE_PO74_PO81_DM_REL11.1.2_27082022_ED4_8617777894366979498.xls\", sheet_name='Fiber')\n",
    "\n",
    "#drop last row & frist 5 rows\n",
    "df = df.drop(df.index[0:5])\n",
    "df = df.drop(df.index[-1])\n",
    "\n",
    "#drop last 30 columns & frisrt 3 columns plus coulmns 5,6,7,8,10\n",
    "df = df.drop(df.columns[[0,1,2,5,6,7,8,10,12,-30,-29,-28,-27,-26,-25,-24,-23,-22,-21,-20,-19,\n",
    "                            -18,-17,-16,-15,-14,-13,-12,-11,-10,-9,-8,-7,-6,-5,-4,-3,-2,-1]], axis=1)\n",
    "\n",
    "# Rename the columns\n",
    "df = df.rename(columns={'Unnamed: 3':'FROM','Unnamed: 4':'TO', 'Unnamed: 9':'Dir'\n",
    "                                        ,'Unnamed: 11':'km','Unnamed: 13':'Max','Unnamed: 14':'Min'})\n",
    "\n",
    "\n",
    "#fill the empty cells with the value of the cell above it\n",
    "df = df.fillna(method='ffill')\n",
    "\n",
    "# to replace the value of the cell in the column 'Dir' with '<-->' with 'Bi'\n",
    "df['Dir'] = df['Dir'].replace(to_replace=r'<-->', value='Bi', regex=True)\n",
    "\n",
    "# to replace the value of the cell in the column 'Dir' with '-->' with 'Uni'\n",
    "df['Dir'] = df['Dir'].replace(to_replace=r'-->', value='Uni', regex=True)\n",
    "\n",
    "# to replace the value of the cell in the column 'Dir' with '<--' with 'reverse'\n",
    "df['Dir'] = df['Dir'].replace(to_replace=r'<--', value='Rev', regex=True)\n",
    "\n",
    "# if the value of the cell in the column 'Dir' is ' Rev' then swap the cell value in the column 'FROM' with the value of the cell in the columen 'TO' in same row\n",
    "df['FROM'] = np.where(df['Dir'] == 'Rev', df['TO'], df['FROM'])\n",
    "\n",
    "#if the value of the cell in the column 'Dir' is 'Bi' then insert a new row rplicating the current raw data\n",
    "for i in range(5,len(df)):\n",
    "    if df.loc[i].at['Dir'] != 'Rev ' and df.loc[i].at['Dir'] != '  Uni':\n",
    "        df = df.append(df.loc[i], ignore_index=True)\n",
    "  \n",
    "\n",
    "# asending the values in the dataframe by the column 'FROM' only\n",
    "\n",
    "df = df.sort_values(by=['FROM', 'TO'],ascending=False)\n",
    "\n",
    "# reset the index of the dataframe\n",
    "df = df.reset_index(drop=True)\n",
    "\n",
    "# starting from second raw and each two raws swap the value of the cell in the column 'FROM' with the value of the cell in the columen 'TO' in same row\n",
    "# and swap the value of the cell in the column 'TO' with the value of the cell in the columen 'FROM' in same row\n",
    "for i in range(1,len(df),2):\n",
    "    df.loc[i,'FROM'], df.loc[i,'TO'] = df.loc[i,'TO'], df.loc[i,'FROM']\n",
    "\n",
    "#drop the column 'Dir'\n",
    "df = df.drop(['Dir'], axis=1)\n",
    "\n",
    "print(df)\n",
    "\n",
    "# Save the main dataframe to an excel file\n",
    "df.to_excel(r'D:\\Autmation\\My scripts\\span Losses details form EPT\\EPT_output.xlsx',index=False)"
   ]
  }
 ],
 "metadata": {
  "kernelspec": {
   "display_name": "Python 3",
   "language": "python",
   "name": "python3"
  },
  "language_info": {
   "codemirror_mode": {
    "name": "ipython",
    "version": 3
   },
   "file_extension": ".py",
   "mimetype": "text/x-python",
   "name": "python",
   "nbconvert_exporter": "python",
   "pygments_lexer": "ipython3",
   "version": "3.10.9"
  },
  "orig_nbformat": 4,
  "vscode": {
   "interpreter": {
    "hash": "25f38fcbf528cf4933e16a3dc20358cc66c032c5bda2a060547b3408b2e9f972"
   }
  }
 },
 "nbformat": 4,
 "nbformat_minor": 2
}
